{
 "cells": [
  {
   "cell_type": "markdown",
   "metadata": {},
   "source": [
    "## 實作練習一"
   ]
  },
  {
   "cell_type": "code",
   "execution_count": null,
   "metadata": {},
   "outputs": [],
   "source": [
    "score = int(input('請輸入成績:'))\n",
    "if (score >= 90):\n",
    "    print('優等')\n",
    "elif (score <=89 and score >=80):\n",
    "    print('甲等')\n",
    "elif(score <=79 and score >=70):\n",
    "    print('乙等')\n",
    "elif(score <=69 and score >=60):\n",
    "    print('丙等')\n",
    "else:\n",
    "    print('丁等')"
   ]
  },
  {
   "cell_type": "markdown",
   "metadata": {},
   "source": [
    "## 實作練習二"
   ]
  },
  {
   "cell_type": "code",
   "execution_count": 40,
   "metadata": {
    "scrolled": true
   },
   "outputs": [
    {
     "name": "stdout",
     "output_type": "stream",
     "text": [
      "請輸入正整數:10\n",
      "55\n"
     ]
    }
   ],
   "source": [
    "count = int(input('請輸入正整數:'))\n",
    "cum=0\n",
    "for i in range(1,count+1):\n",
    "    cum= cum+i\n",
    "print(cum)    "
   ]
  },
  {
   "cell_type": "markdown",
   "metadata": {},
   "source": [
    "## 實作練習五"
   ]
  },
  {
   "cell_type": "code",
   "execution_count": 41,
   "metadata": {},
   "outputs": [
    {
     "name": "stdout",
     "output_type": "stream",
     "text": [
      "請輸入正整數:5\n",
      "1 2 3 4 "
     ]
    }
   ],
   "source": [
    "count = int(input('請輸入正整數:'))\n",
    "for i in range(1,count):\n",
    "    if(i%5==0):\n",
    "        continue\n",
    "    print(i, end=' ')\n",
    "   "
   ]
  },
  {
   "cell_type": "markdown",
   "metadata": {},
   "source": [
    "## 實作練習六"
   ]
  },
  {
   "cell_type": "code",
   "execution_count": 42,
   "metadata": {},
   "outputs": [
    {
     "name": "stdout",
     "output_type": "stream",
     "text": [
      "請輸入正整數:5\n",
      "5 != 120\n"
     ]
    }
   ],
   "source": [
    "count = int(input('請輸入正整數:'))\n",
    "sum=1\n",
    "i=1\n",
    "while(i < count):\n",
    "    i=i+1\n",
    "    sum=sum*i\n",
    "print(count,'!=',sum) "
   ]
  }
 ],
 "metadata": {
  "kernelspec": {
   "display_name": "Python 3",
   "language": "python",
   "name": "python3"
  },
  "language_info": {
   "codemirror_mode": {
    "name": "ipython",
    "version": 3
   },
   "file_extension": ".py",
   "mimetype": "text/x-python",
   "name": "python",
   "nbconvert_exporter": "python",
   "pygments_lexer": "ipython3",
   "version": "3.7.4"
  }
 },
 "nbformat": 4,
 "nbformat_minor": 2
}
